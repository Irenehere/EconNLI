{
 "cells": [
  {
   "cell_type": "code",
   "execution_count": 9,
   "id": "25487168",
   "metadata": {},
   "outputs": [],
   "source": [
    "import pandas as pd\n",
    "import numpy as np\n",
    "\n",
    "df_train = pd.read_csv(\"../Dataset/EconNLI_train.csv\")\n",
    "df_test = pd.read_csv(\"../Dataset/EconNLI_test.csv\" )"
   ]
  },
  {
   "cell_type": "markdown",
   "id": "55026dba",
   "metadata": {},
   "source": [
    "### stats"
   ]
  },
  {
   "cell_type": "code",
   "execution_count": 10,
   "id": "706950d5",
   "metadata": {},
   "outputs": [
    {
     "name": "stdout",
     "output_type": "stream",
     "text": [
      "10810\n",
      "premise avg word count:  9.184458834412581\n",
      "hypothesis avg word count:  8.659574468085106\n",
      "total avg word count:  17.844033302497685\n",
      "number of topics:  554\n"
     ]
    }
   ],
   "source": [
    "print(len(df_train))\n",
    "\n",
    "causes = df_train['cause'].tolist()\n",
    "effects = df_train['effect'].tolist()\n",
    "\n",
    "causes_word_count = list(map(lambda x: len(x.split(\" \")),causes))\n",
    "effects_word_count = list(map(lambda x: len(x.split(\" \")),effects))\n",
    "\n",
    "print(\"premise avg word count: \", np.mean(causes_word_count))\n",
    "print(\"hypothesis avg word count: \", np.mean(effects_word_count))\n",
    "print(\"total avg word count: \", np.mean(causes_word_count)+np.mean(effects_word_count))\n",
    "print(\"number of topics: \", len(df_train.wiki_page.unique()))\n"
   ]
  },
  {
   "cell_type": "code",
   "execution_count": 11,
   "id": "a3f4f28e",
   "metadata": {},
   "outputs": [
    {
     "name": "stdout",
     "output_type": "stream",
     "text": [
      "1026\n",
      "premise avg word count:  10.47465886939571\n",
      "hypothesis avg word count:  9.064327485380117\n",
      "total avg word count:  19.53898635477583\n",
      "number of topics:  211\n"
     ]
    }
   ],
   "source": [
    "print(len(df_test))\n",
    "\n",
    "causes = df_test['cause'].tolist()\n",
    "effects = df_test['effect'].tolist()\n",
    "\n",
    "causes_word_count = list(map(lambda x: len(x.split(\" \")),causes))\n",
    "effects_word_count = list(map(lambda x: len(x.split(\" \")),effects))\n",
    "\n",
    "print(\"premise avg word count: \", np.mean(causes_word_count))\n",
    "print(\"hypothesis avg word count: \", np.mean(effects_word_count))\n",
    "print(\"total avg word count: \", np.mean(causes_word_count)+np.mean(effects_word_count))\n",
    "print(\"number of topics: \", len(df_test.wiki_page.unique()))\n"
   ]
  }
 ],
 "metadata": {
  "kernelspec": {
   "display_name": "EconReasoningDataset",
   "language": "python",
   "name": "econreasoningdataset"
  },
  "language_info": {
   "codemirror_mode": {
    "name": "ipython",
    "version": 3
   },
   "file_extension": ".py",
   "mimetype": "text/x-python",
   "name": "python",
   "nbconvert_exporter": "python",
   "pygments_lexer": "ipython3",
   "version": "3.9.17"
  }
 },
 "nbformat": 4,
 "nbformat_minor": 5
}
